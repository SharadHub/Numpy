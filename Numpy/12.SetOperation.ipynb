{
 "cells": [
  {
   "cell_type": "markdown",
   "id": "4999d650",
   "metadata": {},
   "source": [
    "Doing mathematics operations same as set theory in arrays is NumPy set operation.\n",
    "\n",
    "Remove duplicates\n",
    "Find common or different values\n",
    "Combine arrays without repetition"
   ]
  },
  {
   "cell_type": "markdown",
   "id": "d7e66950",
   "metadata": {},
   "source": [
    "# Examples"
   ]
  },
  {
   "cell_type": "code",
   "execution_count": 2,
   "id": "19cdb2d3",
   "metadata": {},
   "outputs": [
    {
     "name": "stdout",
     "output_type": "stream",
     "text": [
      "[1 2 3 4 5]\n"
     ]
    }
   ],
   "source": [
    "#easy\n",
    "import numpy as np\n",
    "\n",
    "a = np.array([1, 2, 2, 3, 4, 4, 5])\n",
    "print(np.unique(a))  "
   ]
  },
  {
   "cell_type": "code",
   "execution_count": 2,
   "id": "fff3c70f",
   "metadata": {},
   "outputs": [
    {
     "name": "stdout",
     "output_type": "stream",
     "text": [
      "Union: [1 2 3 4 5 6]\n",
      "Intersection: [3 4]\n",
      "A - B: [1 2]\n",
      "Symmetric Diff: [1 2 5 6]\n"
     ]
    }
   ],
   "source": [
    "#intermediate\n",
    "a = np.array([1, 2, 3, 4])\n",
    "b = np.array([3, 4, 5, 6])\n",
    "\n",
    "print(\"Union:\", np.union1d(a, b))\n",
    "print(\"Intersection:\", np.intersect1d(a, b))\n",
    "print(\"A - B:\", np.setdiff1d(a, b))\n",
    "print(\"Symmetric Diff:\", np.setxor1d(a, b))\n"
   ]
  },
  {
   "cell_type": "code",
   "execution_count": 3,
   "id": "c67dc403",
   "metadata": {},
   "outputs": [
    {
     "name": "stdout",
     "output_type": "stream",
     "text": [
      "[False  True  True False]\n",
      "[ True False False False]\n"
     ]
    },
    {
     "name": "stderr",
     "output_type": "stream",
     "text": [
      "C:\\Users\\Acer\\AppData\\Local\\Temp\\ipykernel_4196\\2155899775.py:5: DeprecationWarning: `in1d` is deprecated. Use `np.isin` instead.\n",
      "  print(np.in1d(a, b))\n"
     ]
    }
   ],
   "source": [
    "#hard\n",
    "a = np.array([10, 20, 30, 40])\n",
    "b = np.array([20, 30])\n",
    "\n",
    "print(np.in1d(a, b))  \n",
    "\n",
    "print(np.isin(a, [10, 99]))"
   ]
  },
  {
   "cell_type": "markdown",
   "id": "98faa4f3",
   "metadata": {},
   "source": [
    "# Exercises"
   ]
  },
  {
   "cell_type": "code",
   "execution_count": 5,
   "id": "30ce206e",
   "metadata": {},
   "outputs": [
    {
     "name": "stdout",
     "output_type": "stream",
     "text": [
      "[1 2 3 4 5]\n"
     ]
    }
   ],
   "source": [
    "# Q1: Union of [1,2,3] and [2,3,4,5]\n",
    "\n",
    "x = [1,2,3]\n",
    "y = [2,3,4,5]\n",
    "\n",
    "print(np.union1d(x,y))"
   ]
  },
  {
   "cell_type": "code",
   "execution_count": null,
   "id": "30057a47",
   "metadata": {},
   "outputs": [
    {
     "name": "stdout",
     "output_type": "stream",
     "text": [
      "[1 2 3 4]\n"
     ]
    }
   ],
   "source": [
    "z = [4, 4, 2, 1, 3, 1, 2]\n",
    "\n",
    "print(np.unique(z)) #by default sorted"
   ]
  },
  {
   "cell_type": "code",
   "execution_count": 7,
   "id": "7c03aac5",
   "metadata": {},
   "outputs": [
    {
     "name": "stdout",
     "output_type": "stream",
     "text": [
      "Items only in 1st array but not in 2nd array are [10 30]\n"
     ]
    }
   ],
   "source": [
    "# Q2: Find items only in first array [10,20,30] but not in second [20,40]\n",
    "\n",
    "c = [10,20,30]\n",
    "d = [20,40]\n",
    "\n",
    "print(\"Items only in 1st array but not in 2nd array are\", np.setdiff1d(c,d))"
   ]
  },
  {
   "cell_type": "code",
   "execution_count": 8,
   "id": "7ff8c41d",
   "metadata": {},
   "outputs": [
    {
     "name": "stdout",
     "output_type": "stream",
     "text": [
      "[ True  True]\n"
     ]
    }
   ],
   "source": [
    "# Q3: Are elements of [3, 5] present in [1,2,3,4,5]\n",
    "\n",
    "e = [3,5]\n",
    "f = [1,2,3,4,5]\n",
    "\n",
    "print(np.isin(e,f))"
   ]
  },
  {
   "cell_type": "markdown",
   "id": "eabb6f39",
   "metadata": {},
   "source": [
    "Mini Project: Email List Cleaner"
   ]
  },
  {
   "cell_type": "code",
   "execution_count": 9,
   "id": "6bf7225e",
   "metadata": {},
   "outputs": [
    {
     "name": "stdout",
     "output_type": "stream",
     "text": [
      "Cleaned Email List: ['a@gmail.com' 'c@gmail.com']\n"
     ]
    }
   ],
   "source": [
    "subscribed = np.array([\"a@gmail.com\", \"b@gmail.com\", \"c@gmail.com\"])\n",
    "unsubscribed = np.array([\"b@gmail.com\"])\n",
    "\n",
    "cleaned = np.setdiff1d(subscribed, unsubscribed)\n",
    "print(\"Cleaned Email List:\", cleaned)"
   ]
  },
  {
   "cell_type": "markdown",
   "id": "3d751a8b",
   "metadata": {},
   "source": [
    "Mini Project: Data Cleanup Utility"
   ]
  },
  {
   "cell_type": "code",
   "execution_count": 7,
   "id": "5aff2dee",
   "metadata": {},
   "outputs": [
    {
     "name": "stdout",
     "output_type": "stream",
     "text": [
      "Total Unique Marketing Users: 94\n",
      "Total Unique Website Users: 78\n",
      "Common Users: 6\n",
      "Marketing-Only Users: 88\n",
      "Total Unique Users Across Both Lists: 166\n"
     ]
    }
   ],
   "source": [
    "np.random.seed(42)\n",
    "\n",
    "marketing_users = np.random.randint(1000,2000,100)\n",
    "# print(\"Marketing Users:\\n\",marketing_users)\n",
    "\n",
    "website_users = np.random.randint(1000,2000,80)\n",
    "# print(\"Website Users\\n\",website_users)\n",
    "\n",
    "clean_marketing_users = np.unique(marketing_users)\n",
    "# print(\"Clean List of Marketing Users:\\n\",clean_marketing_users)\n",
    "\n",
    "clean_website_users = np.unique(website_users)\n",
    "# print(\"Clean List of Website Users:\\n\",clean_website_users)\n",
    "\n",
    "common_users = np.intersect1d(clean_marketing_users, clean_website_users)\n",
    "# print(\"Common Users:\\n\",common_users)\n",
    "\n",
    "marketing_exclusive_users = np.setdiff1d(clean_marketing_users, clean_website_users)\n",
    "# print(\"Marketing Exclusive Users:\\n\",marketing_exclusive_users)\n",
    "\n",
    "combine_users = np.union1d(clean_marketing_users, clean_website_users)\n",
    "# print(\"Union of the Users:\\n\",combine_users)\n",
    "\n",
    "\n",
    "print(\"Total Unique Marketing Users:\", len(clean_marketing_users))\n",
    "print(\"Total Unique Website Users:\", len(clean_website_users))\n",
    "print(\"Common Users:\", len(common_users))\n",
    "print(\"Marketing-Only Users:\", len(marketing_exclusive_users))\n",
    "print(\"Total Unique Users Across Both Lists:\", len(combine_users))"
   ]
  }
 ],
 "metadata": {
  "kernelspec": {
   "display_name": "Python 3",
   "language": "python",
   "name": "python3"
  },
  "language_info": {
   "codemirror_mode": {
    "name": "ipython",
    "version": 3
   },
   "file_extension": ".py",
   "mimetype": "text/x-python",
   "name": "python",
   "nbconvert_exporter": "python",
   "pygments_lexer": "ipython3",
   "version": "3.11.9"
  }
 },
 "nbformat": 4,
 "nbformat_minor": 5
}
