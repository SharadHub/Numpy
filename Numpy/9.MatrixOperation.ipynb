{
 "cells": [
  {
   "cell_type": "markdown",
   "id": "b4756262",
   "metadata": {},
   "source": [
    "#Exercise 1: \n",
    "\n",
    "Matrix Multiplication\n",
    "#Create two 2x2 matrices and\n",
    "\n",
    "#Multiply them using both @ and np.dot\n",
    "\n",
    "#Transpose one matrix before multiplying"
   ]
  },
  {
   "cell_type": "code",
   "execution_count": 2,
   "id": "0634a595",
   "metadata": {},
   "outputs": [
    {
     "name": "stdout",
     "output_type": "stream",
     "text": [
      "[[2 0]\n",
      " [4 3]\n",
      " [1 5]]\n"
     ]
    }
   ],
   "source": [
    "#exercise 1\n",
    "import numpy as np\n",
    "\n",
    "A = np.array([[2, 4, 1],\n",
    "              [0, 3, 5]])\n",
    "\n",
    "B = np.array([[1, 2],\n",
    "              [0, -1],\n",
    "              [4, 3]])\n",
    "\n",
    "# np.dot(A,B)\n",
    "\n",
    "# A @ B\n",
    "\n",
    "print(A.T)\n",
    "\n"
   ]
  },
  {
   "cell_type": "markdown",
   "id": "dbee7455",
   "metadata": {},
   "source": [
    "#Exercise 2: \n",
    "\n",
    "Identity Matrix and Inverse\n",
    "#Create a 3x3 matrix\n",
    "#Find its inverse using np.linalg.inv()\n",
    "#Verify the result by multiplying the matrix with its inverse — it should return an identity matrix."
   ]
  },
  {
   "cell_type": "code",
   "execution_count": null,
   "id": "e28b9803",
   "metadata": {},
   "outputs": [
    {
     "name": "stdout",
     "output_type": "stream",
     "text": [
      "[[ 0.11290323 -0.04032258  0.05241935]\n",
      " [ 0.08064516  0.18548387 -0.14112903]\n",
      " [-0.0483871   0.08870968  0.08467742]]\n"
     ]
    },
    {
     "data": {
      "text/plain": [
       "True"
      ]
     },
     "execution_count": 20,
     "metadata": {},
     "output_type": "execute_result"
    }
   ],
   "source": [
    "#exercise 2\n",
    "M = np.array([[7, 2, -1],\n",
    "              [0, 3, 5],\n",
    "              [4, -2, 6]])\n",
    "\n",
    "I = np.eye(3)\n",
    "\n",
    "M_inv = np.linalg.inv(M)\n",
    "\n",
    "print(M_inv)\n",
    "\n",
    "result = M @ M_inv\n",
    "\n",
    "np.allclose(result, I)\n",
    "\n"
   ]
  },
  {
   "cell_type": "markdown",
   "id": "a565d1dd",
   "metadata": {},
   "source": [
    "#Exercise 3: \n",
    "\n",
    "Dot Product in Practice\n",
    "#Simulate a small dataset:\n",
    "#Create a 2D array X of 3 samples with 2 features\n",
    "#Create a weight array W\n",
    "#Calculate the prediction using dot product"
   ]
  },
  {
   "cell_type": "code",
   "execution_count": null,
   "id": "d3bfc43f",
   "metadata": {},
   "outputs": [
    {
     "name": "stdout",
     "output_type": "stream",
     "text": [
      "[[-3.24]\n",
      " [ 1.91]\n",
      " [ 0.72]]\n"
     ]
    }
   ],
   "source": [
    "#exercise 3\n",
    "import numpy as np\n",
    "\n",
    "X = np.array([[1.2, 3.4],\n",
    "              [0.5, -1.3],\n",
    "              [4.8, 2.2]])\n",
    "\n",
    "W = np.array([[0.7],\n",
    "              [-1.2]])\n",
    "\n",
    "print(X @ W)"
   ]
  }
 ],
 "metadata": {
  "kernelspec": {
   "display_name": "Python 3",
   "language": "python",
   "name": "python3"
  },
  "language_info": {
   "codemirror_mode": {
    "name": "ipython",
    "version": 3
   },
   "file_extension": ".py",
   "mimetype": "text/x-python",
   "name": "python",
   "nbconvert_exporter": "python",
   "pygments_lexer": "ipython3",
   "version": "3.11.9"
  }
 },
 "nbformat": 4,
 "nbformat_minor": 5
}
