{
 "cells": [
  {
   "cell_type": "markdown",
   "id": "a20b6b35",
   "metadata": {},
   "source": [
    "This is important for performance, memory efficiency and data integrity."
   ]
  },
  {
   "cell_type": "markdown",
   "id": "5f4fbb6f",
   "metadata": {},
   "source": [
    "View is the reference of the original array. If we make changes in view then original array also change."
   ]
  },
  {
   "cell_type": "markdown",
   "id": "147a2fac",
   "metadata": {},
   "source": [
    "Copy is object created from the exact same data of original array. Change in copy does not affect original array."
   ]
  },
  {
   "cell_type": "markdown",
   "id": "e705df0c",
   "metadata": {},
   "source": [
    "# Examples"
   ]
  },
  {
   "cell_type": "code",
   "execution_count": null,
   "id": "4444121b",
   "metadata": {},
   "outputs": [
    {
     "name": "stdout",
     "output_type": "stream",
     "text": [
      "[100   2   3]\n"
     ]
    }
   ],
   "source": [
    "# easy\n",
    "import numpy as np\n",
    "a = np.array([1, 2, 3])\n",
    "b = a.view()\n",
    "b[0] = 100\n",
    "print(a)"
   ]
  },
  {
   "cell_type": "code",
   "execution_count": null,
   "id": "54b418b8",
   "metadata": {},
   "outputs": [
    {
     "name": "stdout",
     "output_type": "stream",
     "text": [
      "[1 2 3]\n"
     ]
    }
   ],
   "source": [
    "# intermediate\n",
    "a = np.array([1, 2, 3])\n",
    "b = a.copy()\n",
    "b[0] = 100\n",
    "print(a)"
   ]
  },
  {
   "cell_type": "code",
   "execution_count": 7,
   "id": "71fae95c",
   "metadata": {},
   "outputs": [
    {
     "name": "stdout",
     "output_type": "stream",
     "text": [
      "[[0 1 2]\n",
      " [3 4 5]\n",
      " [6 7 8]]\n",
      "[[999   1   2]\n",
      " [  3   4   5]\n",
      " [  6   7   8]]\n"
     ]
    }
   ],
   "source": [
    "# hard\n",
    "a = np.arange(9).reshape(3, 3)\n",
    "print(a)\n",
    "b = a[::2, ::2]\n",
    "b[0, 0] = 999\n",
    "print(a)"
   ]
  },
  {
   "cell_type": "markdown",
   "id": "df488256",
   "metadata": {},
   "source": [
    "# Exercises"
   ]
  },
  {
   "cell_type": "code",
   "execution_count": 9,
   "id": "dff4a77a",
   "metadata": {},
   "outputs": [
    {
     "name": "stdout",
     "output_type": "stream",
     "text": [
      "[ 7  4  8  5  7 10  3  7  8  5]\n",
      "[100   4   8   5   7  10   3   7   8   5]\n"
     ]
    }
   ],
   "source": [
    "# Create a 1D array and create a view. Modify the view and observe what changes.\n",
    "\n",
    "np.random.seed(42)\n",
    "a = np.random.randint(1,11,10)\n",
    "print(a)\n",
    "b = a.view()\n",
    "b[0] = 100\n",
    "print(a)"
   ]
  },
  {
   "cell_type": "code",
   "execution_count": 13,
   "id": "40e8e9f8",
   "metadata": {},
   "outputs": [
    {
     "name": "stdout",
     "output_type": "stream",
     "text": [
      "[[ 0  1  2  3]\n",
      " [ 4  5  6  7]\n",
      " [ 8  9 10 11]\n",
      " [12 13 14 15]] \n",
      "\n",
      "[[ 0  1  2  3]\n",
      " [ 4  5  6  7]\n",
      " [ 8  9 10 11]\n",
      " [12 13 14 15]]\n"
     ]
    }
   ],
   "source": [
    "# Create a 2D array, make a copy of a slice, modify the copy. Prove original remains same.\n",
    "\n",
    "x = np.arange(16).reshape(4, 4)\n",
    "print(x,\"\\n\")\n",
    "\n",
    "y = x.copy()\n",
    "y[0] = 100\n",
    "\n",
    "print(x)"
   ]
  },
  {
   "cell_type": "code",
   "execution_count": 14,
   "id": "c81a38b5",
   "metadata": {},
   "outputs": [
    {
     "name": "stdout",
     "output_type": "stream",
     "text": [
      "Original Array: [199  93  15  72  61  21  83  87  75  75]\n",
      "View Array: [199  93  15  72  61  21  83  87  75  75]\n",
      "Copy Array: [199  93  15  72  61  21  83  87  75  75]\n",
      "View shares memory True\n",
      "Copy shares memory False\n"
     ]
    }
   ],
   "source": [
    "# Make a function that takes a NumPy array, returns both its view and copy. Test it with modification.\n",
    "\n",
    "def get_view_and_copy(array):\n",
    "    view_array = array.view()\n",
    "    copy_array = array.copy()\n",
    "    return view_array, copy_array\n",
    "\n",
    "np.random.seed(42)\n",
    "original_array = np.random.randint(1,100,10)\n",
    "\n",
    "view_arr, copy_arr = get_view_and_copy(original_array)\n",
    "\n",
    "view_arr[0] = 199\n",
    "copy_arr[0] = 199\n",
    "\n",
    "print(\"Original Array:\",original_array)\n",
    "print(\"View Array:\", view_arr)\n",
    "print(\"Copy Array:\", copy_arr)\n",
    "\n",
    "print(\"View shares memory\", view_arr.base is original_array)\n",
    "print(\"Copy shares memory\", copy_arr.base is original_array)"
   ]
  },
  {
   "cell_type": "markdown",
   "id": "03546dac",
   "metadata": {},
   "source": [
    "Mini Project: Array Audit Tool\n",
    "\n",
    "Goal: Create a tool that checks if an array is a view or copy and performs safe modifications.\n",
    "\n",
    "Instructions:\n",
    "\n",
    "Create a base array\n",
    "\n",
    "Take a slice (view)\n",
    "\n",
    "Create a full copy\n",
    "\n",
    "Print .base to check view status\n",
    "\n",
    "Modify both, show changes\n",
    "\n",
    "Conclude: Which one is safe for operations?"
   ]
  },
  {
   "cell_type": "code",
   "execution_count": null,
   "id": "b96efffb",
   "metadata": {},
   "outputs": [
    {
     "name": "stdout",
     "output_type": "stream",
     "text": [
      "True\n",
      "False\n",
      "[299  42  92  60  80]\n",
      "[299  42  92  60  80  15  62  62  47  62]\n"
     ]
    }
   ],
   "source": [
    "# creating base array\n",
    "audit = np.random.randint(1,100,10)\n",
    "\n",
    "# taking a slice\n",
    "base_array = audit[0:5]\n",
    "\n",
    "# copying original array\n",
    "copy_array = audit.copy()\n",
    "\n",
    "# printing .base to check view status\n",
    "print(base_array.base is audit)\n",
    "print(copy_array.base is audit)\n",
    "\n",
    "# modifying both arrays\n",
    "base_array[0] = 299\n",
    "copy_array[0] = 299\n",
    "\n",
    "# showing modified arrays\n",
    "print(base_array)\n",
    "print(copy_array)"
   ]
  }
 ],
 "metadata": {
  "kernelspec": {
   "display_name": "Python 3",
   "language": "python",
   "name": "python3"
  },
  "language_info": {
   "codemirror_mode": {
    "name": "ipython",
    "version": 3
   },
   "file_extension": ".py",
   "mimetype": "text/x-python",
   "name": "python",
   "nbconvert_exporter": "python",
   "pygments_lexer": "ipython3",
   "version": "3.11.9"
  }
 },
 "nbformat": 4,
 "nbformat_minor": 5
}
