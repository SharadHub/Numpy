{
 "cells": [
  {
   "cell_type": "markdown",
   "id": "6f903466",
   "metadata": {},
   "source": [
    "# Syntax and Important Functions:\n",
    "\n",
    "# Function\t                                        Description\t                                      Example\n",
    "\n",
    "np.random.rand(d0, d1, ...)\t                        Uniform distribution in [0, 1)                    np.random.rand(2, 3)\n",
    "np.random.randn(d0, d1, ...)\t                    Standard normal distribution (mean=0, std=1)\t  np.random.randn(3)\n",
    "np.random.randint(low, high, size)\t                Random integers in range [low, high)\t          np.random.randint(1, 10, 5)\n",
    "np.random.choice(a, size)\t                        Randomly pick values from array a\t              np.random.choice([1, 2, 3], 2)\n",
    "np.random.seed()\t                                Set seed for reproducibility\t                  np.random.seed(42)"
   ]
  },
  {
   "cell_type": "code",
   "execution_count": null,
   "id": "abe40903",
   "metadata": {},
   "outputs": [],
   "source": [
    "import numpy as np"
   ]
  },
  {
   "cell_type": "markdown",
   "id": "4a1bb4ff",
   "metadata": {},
   "source": [
    "# generate 5 random numbers from 0 to 1"
   ]
  },
  {
   "cell_type": "code",
   "execution_count": null,
   "id": "b0a235ad",
   "metadata": {},
   "outputs": [
    {
     "name": "stdout",
     "output_type": "stream",
     "text": [
      "[[0.59226448 0.58572948 0.63530143]]\n"
     ]
    }
   ],
   "source": [
    "random_num = np.random.rand(1,3) #np.random.rand() is used to produce random numbers between 0 and 1\n",
    "print(random_num)"
   ]
  },
  {
   "cell_type": "markdown",
   "id": "49285ab2",
   "metadata": {},
   "source": [
    "# Simulate 10 dice rolls (values from 1 to 6)\n"
   ]
  },
  {
   "cell_type": "code",
   "execution_count": 43,
   "id": "03c36130",
   "metadata": {},
   "outputs": [
    {
     "name": "stdout",
     "output_type": "stream",
     "text": [
      "[2 3 4 3 1 4 5 2 3 1]\n"
     ]
    }
   ],
   "source": [
    "number_random = np.random.randint(1, 7, 10) #np.random.randint() generates random numbers in given range and size\n",
    "                # np.random.randint(low, high, size)\n",
    "\n",
    "print(number_random)"
   ]
  },
  {
   "cell_type": "markdown",
   "id": "528e792d",
   "metadata": {},
   "source": [
    "# Simulate stock prices using normal distribution"
   ]
  },
  {
   "cell_type": "code",
   "execution_count": null,
   "id": "e3313137",
   "metadata": {},
   "outputs": [
    {
     "name": "stdout",
     "output_type": "stream",
     "text": [
      "[100.41472442 104.78962047 107.21612642 108.03660319 108.11873481\n",
      " 105.87335112 103.54783432 104.12845814 107.20017476 108.46091228\n",
      " 109.85702697 113.75049015 114.60846659 116.3641338  115.87440622\n",
      " 119.94981147 121.52254432 119.79412528 119.05773882 122.22989901\n",
      " 120.66339875 121.27336254 124.08674676 123.91402891 124.55343032\n",
      " 121.9390364  120.8699347  123.79335976 123.32003874 123.70289841]\n"
     ]
    }
   ],
   "source": [
    "days = 30\n",
    "initial_price = 100\n",
    "returns = np.random.normal(loc=0.001, scale=0.02, size=days) #simulating stock price of 30 days which was initially priced 100 using normal distribution\n",
    "prices = initial_price * np.cumprod(1 + returns)\n",
    "print(prices)"
   ]
  },
  {
   "cell_type": "markdown",
   "id": "27e6ed08",
   "metadata": {},
   "source": [
    "# Simulate flipping a coin 100 times. Count how many times you get heads (1) and tails (0)"
   ]
  },
  {
   "cell_type": "code",
   "execution_count": 68,
   "id": "6683ed22",
   "metadata": {},
   "outputs": [
    {
     "name": "stdout",
     "output_type": "stream",
     "text": [
      "There are 55 number of heads\n",
      "There are 45 number of tails\n"
     ]
    }
   ],
   "source": [
    "flipped = np.random.randint(0,2,100)\n",
    "\n",
    "count_nonzero = np.count_nonzero(flipped == 1)\n",
    "count_zero = np.count_nonzero(flipped == 0)\n",
    "\n",
    "print(f\"There are {count_nonzero} number of heads\")\n",
    "print(f\"There are {count_zero} number of tails\")\n"
   ]
  },
  {
   "cell_type": "markdown",
   "id": "032528e7",
   "metadata": {},
   "source": [
    "# Simulate rolling two 6-sided dice 1000 times and count how many times the sum is 7"
   ]
  },
  {
   "cell_type": "code",
   "execution_count": 83,
   "id": "00c57c53",
   "metadata": {},
   "outputs": [
    {
     "name": "stdout",
     "output_type": "stream",
     "text": [
      "There are 169 times sumof two dices are seven\n"
     ]
    }
   ],
   "source": [
    "dice_one = np.random.randint(1,7,1000)\n",
    "dice_two = np.random.randint(1,7,1000)\n",
    "\n",
    "sum_of_dices = dice_one + dice_two\n",
    "\n",
    "count_seven = np.count_nonzero(sum_of_dices == 7)\n",
    "\n",
    "print(f\"There are {count_seven} times sumof two dices are seven\")"
   ]
  },
  {
   "cell_type": "markdown",
   "id": "5c975b9d",
   "metadata": {},
   "source": [
    "# Create a synthetic dataset of 1000 samples × 5 features, where all values are drawn from a normal distribution each feature (column) is normalized between 0 and 1"
   ]
  },
  {
   "cell_type": "code",
   "execution_count": 98,
   "id": "b3aa8855",
   "metadata": {},
   "outputs": [
    {
     "name": "stdout",
     "output_type": "stream",
     "text": [
      "[0. 0. 0. 0. 0.]\n",
      "[1. 1. 1. 1. 1.]\n"
     ]
    }
   ],
   "source": [
    "np.random.seed(42)\n",
    "X = np.random.normal(size = (1000,5))\n",
    "\n",
    "x_min = np.min(X, axis=0)\n",
    "x_max = np.max(X, axis=0)\n",
    "\n",
    "normalised = (X - x_min)/ (x_max - x_min)\n",
    "print(normalised.min(axis=0))\n",
    "print(normalised.max(axis=0))"
   ]
  },
  {
   "cell_type": "markdown",
   "id": "794c7807",
   "metadata": {},
   "source": [
    "8. Mini Project: Dice game simulator\n",
    "simulate a 2-player dice game. Each rolls a dice 100 times. The player with more 6s wins.\n",
    "\n",
    "Steps:\n",
    "Use np.random.randint() to simulate rolls\n",
    "\n",
    "Count 6s using np.count_nonzero()\n",
    "\n",
    "Compare and declare winner\n",
    "\n",
    "Optional: Visualize roll distributions using matplotlib"
   ]
  },
  {
   "cell_type": "code",
   "execution_count": 103,
   "id": "78d818e9",
   "metadata": {},
   "outputs": [
    {
     "name": "stdout",
     "output_type": "stream",
     "text": [
      "Player 1 wins with 17 number of sixes\n"
     ]
    },
    {
     "data": {
      "image/png": "[encoded data removed]",
      "text/plain": [
       "<Figure size 640x480 with 1 Axes>"
      ]
     },
     "metadata": {},
     "output_type": "display_data"
    }
   ],
   "source": [
    "np.random.seed(42)\n",
    "\n",
    "player1 = np.random.randint(1,7,100)\n",
    "player2 = np.random.randint(1,7,100)\n",
    "\n",
    "count_1 = np.count_nonzero(player1 == 6)\n",
    "count_2 = np.count_nonzero(player2 == 6)\n",
    "\n",
    "\n",
    "if count_1 > count_2:\n",
    "    print(f\"Player 1 wins with {count_1} number of sixes\")\n",
    "\n",
    "elif count_1 < count_2:\n",
    "    print(f\"Player 2 wins with {count_2} number of sixes\")\n",
    "    \n",
    "elif count_1 == count_2:\n",
    "    print(\"It's a tie\")\n",
    "    \n",
    "else:\n",
    "    print(\"Error. Try Again\")\n",
    "    \n",
    "#visualization\n",
    "\n",
    "import matplotlib.pyplot as plt\n",
    "\n",
    "# Assuming player1 and player2 rolls are already generated\n",
    "# from your code above\n",
    "\n",
    "bins = np.arange(1, 8)  # Dice values 1–6, need 7 to include 6 as right edge\n",
    "\n",
    "plt.hist(player1, bins=bins, alpha=0.5, label='Player 1', edgecolor='black')\n",
    "plt.hist(player2, bins=bins, alpha=0.5, label='Player 2', edgecolor='black')\n",
    "\n",
    "plt.xlabel('Dice Value')\n",
    "plt.ylabel('Frequency')\n",
    "plt.title('Dice Roll Distribution: Player 1 vs Player 2')\n",
    "plt.legend()\n",
    "plt.grid(True)\n",
    "plt.show()"
   ]
  }
 ],
 "metadata": {
  "kernelspec": {
   "display_name": "Python 3",
   "language": "python",
   "name": "python3"
  },
  "language_info": {
   "codemirror_mode": {
    "name": "ipython",
    "version": 3
   },
   "file_extension": ".py",
   "mimetype": "text/x-python",
   "name": "python",
   "nbconvert_exporter": "python",
   "pygments_lexer": "ipython3",
   "version": "3.11.9"
  }
 },
 "nbformat": 4,
 "nbformat_minor": 5
}
