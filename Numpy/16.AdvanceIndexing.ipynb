{
 "cells": [
  {
   "cell_type": "markdown",
   "id": "6a94f11c",
   "metadata": {},
   "source": [
    "using np.ix_()"
   ]
  },
  {
   "cell_type": "code",
   "execution_count": 2,
   "id": "55a9f95e",
   "metadata": {},
   "outputs": [
    {
     "name": "stdout",
     "output_type": "stream",
     "text": [
      "[[ 1  2  3  4]\n",
      " [ 5  6  7  8]\n",
      " [ 9 10 11 12]\n",
      " [13 14 15 16]] \n",
      "\n",
      "[[ 5  7]\n",
      " [13 15]] \n",
      "\n"
     ]
    }
   ],
   "source": [
    "import numpy as np\n",
    "\n",
    "arr = np.arange(1, 17).reshape(4, 4)\n",
    "\n",
    "print(arr,\"\\n\")\n",
    "\n",
    "rows = [1,3]\n",
    "cols = [0,2]\n",
    "\n",
    "\n",
    "submatrix = arr[np.ix_(rows, cols)]\n",
    "print(submatrix,\"\\n\")"
   ]
  },
  {
   "cell_type": "markdown",
   "id": "35c105ae",
   "metadata": {},
   "source": [
    "using np.newaxis"
   ]
  },
  {
   "cell_type": "code",
   "execution_count": 6,
   "id": "4be3b648",
   "metadata": {},
   "outputs": [
    {
     "name": "stdout",
     "output_type": "stream",
     "text": [
      "[[4 5 6 7 8 9 0]] \n",
      "\n",
      " [[4]\n",
      " [5]\n",
      " [6]\n",
      " [7]\n",
      " [8]\n",
      " [9]\n",
      " [0]]\n"
     ]
    }
   ],
   "source": [
    "a = np.array([4,5,6,7,8,9,0])\n",
    "\n",
    "row_vec = a[np.newaxis, :]\n",
    "col_vec = a[:, np.newaxis]\n",
    "\n",
    "print(row_vec,\"\\n\\n\", col_vec)"
   ]
  },
  {
   "cell_type": "markdown",
   "id": "13720b49",
   "metadata": {},
   "source": [
    "using advance indexing extract only row 1 and 3"
   ]
  },
  {
   "cell_type": "code",
   "execution_count": null,
   "id": "c4bb110a",
   "metadata": {},
   "outputs": [
    {
     "name": "stdout",
     "output_type": "stream",
     "text": [
      "[[ 1  2  3  4  5]\n",
      " [ 6  7  8  9 10]\n",
      " [11 12 13 14 15]\n",
      " [16 17 18 19 20]] \n",
      "\n",
      "[[ 6  7  8  9 10]\n",
      " [16 17 18 19 20]] \n",
      "\n",
      "[[ 1  3  5]\n",
      " [ 6  8 10]\n",
      " [11 13 15]\n",
      " [16 18 20]] \n",
      "\n",
      "[[ 2  4]\n",
      " [12 14]] \n",
      "\n"
     ]
    }
   ],
   "source": [
    "arr1 = np.arange(1,21).reshape(4,5)\n",
    "print(arr1, \"\\n\")\n",
    "\n",
    "# Using advanced indexing, extract only rows 1 and 3\n",
    "row = [1,3]\n",
    "submatrix1 = arr1[np.ix_(row)]\n",
    "print(submatrix1, \"\\n\")\n",
    "\n",
    "# Extract only columns 0, 2, and 4 from all rows\n",
    "column = [0, 2, 4]\n",
    "col_matrix = arr1[:, column]\n",
    "print(col_matrix,\"\\n\")\n",
    "\n",
    "# Extract submatrix from rows 0, 2 and columns 1, 3\n",
    "r = [0, 2]\n",
    "c = [1, 3]\n",
    "\n",
    "new_matrix = arr1[np.ix_(r,c)]\n",
    "print(new_matrix,\"\\n\")"
   ]
  },
  {
   "cell_type": "markdown",
   "id": "615dc427",
   "metadata": {},
   "source": [
    "Convert 1D array to Row and Column Vector using np.newaxis"
   ]
  },
  {
   "cell_type": "code",
   "execution_count": 24,
   "id": "74f00a83",
   "metadata": {},
   "outputs": [
    {
     "name": "stdout",
     "output_type": "stream",
     "text": [
      "[[20 40 50]] \n",
      " [[20]\n",
      " [40]\n",
      " [50]] \n",
      "\n"
     ]
    }
   ],
   "source": [
    "bArray = np.array([20,40,50])\n",
    "\n",
    "row_vector = bArray[np.newaxis,:]\n",
    "column_vector = bArray[:, np.newaxis]\n",
    "print(row_vector, \"\\n\", column_vector, \"\\n\")"
   ]
  },
  {
   "cell_type": "markdown",
   "id": "169e3f69",
   "metadata": {},
   "source": [
    "Create an addition table using broadcasting:"
   ]
  },
  {
   "cell_type": "code",
   "execution_count": 27,
   "id": "5bb06a4f",
   "metadata": {},
   "outputs": [
    {
     "name": "stdout",
     "output_type": "stream",
     "text": [
      "[[11 21 31 41]\n",
      " [12 22 32 42]\n",
      " [13 23 33 43]]\n"
     ]
    }
   ],
   "source": [
    "row = np.array([1, 2, 3])\n",
    "col = np.array([10, 20, 30, 40])\n",
    "\n",
    "addition = row[:, np.newaxis] + col\n",
    "print(addition)"
   ]
  },
  {
   "cell_type": "markdown",
   "id": "60f82aee",
   "metadata": {},
   "source": [
    "Compare Temperatures Between Cities Kathmandu & Biratnagar (Real Dataset Based)"
   ]
  },
  {
   "cell_type": "code",
   "execution_count": 46,
   "id": "1c8f5aa1",
   "metadata": {},
   "outputs": [
    {
     "name": "stdout",
     "output_type": "stream",
     "text": [
      "('Date', 'City', 'State', 'Rainfall_mm', 'Temperature_C', 'Humidity_', 'Weather_Type') \n",
      "\n",
      "[('2024-06-01', 'Kathmandu', 'Bagmati', 12.5, 22. , 85., 'Rain')\n",
      " ('2024-06-02', 'Nepalgunj', 'Lumbini',  0. , 35.2, 40., 'Clear')\n",
      " ('2024-06-03', 'Biratnagar', 'Koshi',  3.4, 28.3, 60., 'Cloudy')\n",
      " ('2024-06-04', 'Kathmandu', 'Bagmati',  8.2, 21.7, 88., 'Rain')\n",
      " ('2024-06-05', 'Nepalgunj', 'Lumbini',  0. , 36. , 38., 'Clear')\n",
      " ('2024-06-06', 'Biratnagar', 'Koshi',  0. , 30.1, 55., 'Sunny')\n",
      " ('2024-06-07', 'Kathmandu', 'Bagmati',  nan, 23.5, 70., 'Cloudy')\n",
      " ('2024-06-08', 'Nepalgunj', 'Lumbini',  1.5,  nan, 45., 'Drizzle')\n",
      " ('2024-06-09', 'Biratnagar', 'Koshi',  2.7, 27.4, nan, 'Rain')]\n",
      "Temperatures in the Kathmandu for 3 days are [22.  21.7 23.5]\n",
      "Temperatures in the Biratnagar for 3 days are [28.3 30.1 27.4]\n",
      "[[50.3 52.1 49.4]\n",
      " [50.0 51.8 49.099999999999994]\n",
      " [51.8 53.6 50.9]]\n",
      "51.0\n"
     ]
    }
   ],
   "source": [
    "dataset = np.genfromtxt('rainfall_data.csv', delimiter=',', names=True, dtype=None, encoding='utf-8')\n",
    "print(dataset.dtype.names, \"\\n\")\n",
    "print(dataset)\n",
    "\n",
    "kathmandu_temp = dataset['Temperature_C'][dataset['City'] == 'Kathmandu']\n",
    "biratnagar_temp = dataset['Temperature_C'][dataset['City'] == 'Biratnagar']\n",
    "\n",
    "print(f\"Temperatures in the Kathmandu for 3 days are {kathmandu_temp}\")\n",
    "print(f\"Temperatures in the Biratnagar for 3 days are {biratnagar_temp}\")\n",
    "\n",
    "import numpy.ma as ma\n",
    "masking_ktm = ma.masked_invalid(kathmandu_temp) # masking nan value in temperature column\n",
    "masking_birat = ma.masked_invalid(biratnagar_temp) # masking nan value in temperature column\n",
    "\n",
    "adding_both_cities = masking_ktm[:, np.newaxis] + masking_birat\n",
    "print(adding_both_cities)\n",
    "avg_temp = ma.mean(adding_both_cities)\n",
    "print(avg_temp)"
   ]
  }
 ],
 "metadata": {
  "kernelspec": {
   "display_name": "Python 3",
   "language": "python",
   "name": "python3"
  },
  "language_info": {
   "codemirror_mode": {
    "name": "ipython",
    "version": 3
   },
   "file_extension": ".py",
   "mimetype": "text/x-python",
   "name": "python",
   "nbconvert_exporter": "python",
   "pygments_lexer": "ipython3",
   "version": "3.11.9"
  }
 },
 "nbformat": 4,
 "nbformat_minor": 5
}
