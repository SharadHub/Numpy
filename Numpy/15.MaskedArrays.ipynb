{
 "cells": [
  {
   "cell_type": "code",
   "execution_count": 4,
   "id": "8e41b765",
   "metadata": {},
   "outputs": [],
   "source": [
    "import numpy as np\n",
    "import numpy.ma as ma"
   ]
  },
  {
   "cell_type": "markdown",
   "id": "f577e0b7",
   "metadata": {},
   "source": [
    "creating masked array manually"
   ]
  },
  {
   "cell_type": "code",
   "execution_count": 3,
   "id": "b0297899",
   "metadata": {},
   "outputs": [
    {
     "name": "stdout",
     "output_type": "stream",
     "text": [
      "[10 20 -- 40 --]\n"
     ]
    }
   ],
   "source": [
    "data = np.array([10, 20, 30, 40, 50])\n",
    "mask = [0, 0, 1, 0, 1]\n",
    "\n",
    "masked = ma.masked_array(data, mask)\n",
    "print(masked)"
   ]
  },
  {
   "cell_type": "markdown",
   "id": "889f684d",
   "metadata": {},
   "source": [
    "masking data > 35 and calculating mean"
   ]
  },
  {
   "cell_type": "code",
   "execution_count": 5,
   "id": "2010f3e5",
   "metadata": {},
   "outputs": [
    {
     "name": "stdout",
     "output_type": "stream",
     "text": [
      "[10 20 30 -- -- -- -- -- -- --]\n",
      "20.0\n"
     ]
    }
   ],
   "source": [
    "data1 = np.array([10, 20, 30, 40, 50, 60, 70, 80, 90, 100])\n",
    "masked1 = ma.masked_where(data1 > 35, data1)\n",
    "print(masked1)\n",
    "print(masked1.mean())"
   ]
  },
  {
   "cell_type": "markdown",
   "id": "fcd489e0",
   "metadata": {},
   "source": [
    " Replace missing values with mask, fill with 0"
   ]
  },
  {
   "cell_type": "code",
   "execution_count": 7,
   "id": "f556426b",
   "metadata": {},
   "outputs": [
    {
     "name": "stdout",
     "output_type": "stream",
     "text": [
      "[1. 2. 3. 0. 0. 6. 7. 8. 0. 0.]\n"
     ]
    }
   ],
   "source": [
    "data2 = np.array([1, 2, 3, np.nan, np.nan, 6, 7, 8, np.nan, np.nan])\n",
    "\n",
    "masked2 = ma.masked_invalid(data2)\n",
    "data_filled = masked2.filled(0)\n",
    "\n",
    "print(data_filled)"
   ]
  },
  {
   "cell_type": "markdown",
   "id": "f4fc3c41",
   "metadata": {},
   "source": [
    "Mask all elements greater than 50 in a given array."
   ]
  },
  {
   "cell_type": "code",
   "execution_count": 8,
   "id": "6b3ff01e",
   "metadata": {},
   "outputs": [
    {
     "name": "stdout",
     "output_type": "stream",
     "text": [
      "Array after masking elements greater than 50: [-- 20 40 30 -- -- 10 -- 50 --]\n"
     ]
    }
   ],
   "source": [
    "array = np.array([100, 20, 40, 30, 60, 80, 10, 90, 50, 70])\n",
    "\n",
    "masked3 = ma.masked_where(array > 50, array)\n",
    "print(f\"Array after masking elements greater than 50: {masked3}\")"
   ]
  },
  {
   "cell_type": "markdown",
   "id": "58f5d875",
   "metadata": {},
   "source": [
    "Create a masked array from temperature data where data < 0 (negative temps are missing sensors)"
   ]
  },
  {
   "cell_type": "code",
   "execution_count": 5,
   "id": "55778c99",
   "metadata": {},
   "outputs": [
    {
     "name": "stdout",
     "output_type": "stream",
     "text": [
      "Masked array of temperatures after masking temperature below zero is: [12.5 -- 7.8 -- 15.3 0.0 -- 9.1 -- 18.6]\n"
     ]
    }
   ],
   "source": [
    "temperatures = np.array([12.5, -3.0, 7.8, -10.2, 15.3, 0.0, -6.5, 9.1, -2.4, 18.6])\n",
    "\n",
    "masked4 = ma.masked_where(temperatures < 0, temperatures)\n",
    "print(f\"Masked array of temperatures after masking temperature below zero is: {masked4}\")"
   ]
  },
  {
   "cell_type": "markdown",
   "id": "cf9a0898",
   "metadata": {},
   "source": [
    "You are given a rainfall dataset. Some values are NaN. Calculate total rainfall (ignoring NaN)"
   ]
  },
  {
   "cell_type": "code",
   "execution_count": 22,
   "id": "3d10a273",
   "metadata": {},
   "outputs": [
    {
     "name": "stdout",
     "output_type": "stream",
     "text": [
      "('Date', 'City', 'State', 'Rainfall_mm', 'Temperature_C', 'Humidity_', 'Weather_Type')\n",
      "[('2024-06-01', 'Kathmandu', 'Bagmati', 12.5, 22. , 85., 'Rain')\n",
      " ('2024-06-02', 'Nepalgunj', 'Lumbini',  0. , 35.2, 40., 'Clear')\n",
      " ('2024-06-03', 'Biratnagar', 'Koshi',  3.4, 28.3, 60., 'Cloudy')\n",
      " ('2024-06-04', 'Kathmandu', 'Bagmati',  8.2, 21.7, 88., 'Rain')\n",
      " ('2024-06-05', 'Nepalgunj', 'Lumbini',  0. , 36. , 38., 'Clear')\n",
      " ('2024-06-06', 'Biratnagar', 'Koshi',  0. , 30.1, 55., 'Sunny')\n",
      " ('2024-06-07', 'Kathmandu', 'Bagmati',  nan, 23.5, 70., 'Cloudy')\n",
      " ('2024-06-08', 'Nepalgunj', 'Lumbini',  1.5,  nan, 45., 'Drizzle')\n",
      " ('2024-06-09', 'Biratnagar', 'Koshi',  2.7, 27.4, nan, 'Rain')]\n",
      "Total rainfall happened is 28.3 mm\n",
      "\n",
      "Average rainfall = 3.5375\n",
      "\n",
      "Masked rainfall replaced with average rainfall: [12.5     0.      3.4     8.2     0.      0.      3.5375  1.5     2.7   ]\n",
      "Number of masked rainfall values : 1\n"
     ]
    }
   ],
   "source": [
    "\n",
    "dataset = np.genfromtxt('rainfall_data.csv', delimiter=',', names=True, dtype=None, encoding='utf-8')\n",
    "\n",
    "print(dataset.dtype.names)\n",
    "print(dataset)\n",
    "\n",
    "rainfall = dataset['Rainfall_mm']\n",
    "masked_rain = ma.masked_invalid(rainfall)\n",
    "total_rainfall = ma.sum(masked_rain)\n",
    "print(f\"Total rainfall happened is {total_rainfall} mm\\n\")\n",
    "\n",
    "#  Fill masked values with the average of the valid values.\n",
    "\n",
    "avg_rainfall = ma.mean(masked_rain)\n",
    "print(f\"Average rainfall = {avg_rainfall}\\n\")\n",
    "filling = masked_rain.filled(avg_rainfall)\n",
    "\n",
    "print(f\"Masked rainfall replaced with average rainfall: {filling}\")\n",
    "\n",
    "# Check how many values were masked in a dataset.\n",
    "masked_values = masked_rain.count()\n",
    "total_elements = masked_rain.size\n",
    "masked_count = total_elements - masked_values\n",
    "print(f\"Number of masked rainfall values : {masked_count}\")\n",
    "\n",
    "# Replace masked values with the column-wise average.\n"
   ]
  }
 ],
 "metadata": {
  "kernelspec": {
   "display_name": "Python 3",
   "language": "python",
   "name": "python3"
  },
  "language_info": {
   "codemirror_mode": {
    "name": "ipython",
    "version": 3
   },
   "file_extension": ".py",
   "mimetype": "text/x-python",
   "name": "python",
   "nbconvert_exporter": "python",
   "pygments_lexer": "ipython3",
   "version": "3.11.9"
  }
 },
 "nbformat": 4,
 "nbformat_minor": 5
}
