{
 "cells": [
  {
   "cell_type": "markdown",
   "id": "c0595cae",
   "metadata": {},
   "source": [
    "Structured array allow us to store complex data like tables in the simple NumPy array where eacch elements can contains multiple namefield like columns."
   ]
  },
  {
   "cell_type": "code",
   "execution_count": 1,
   "id": "37a16bbb",
   "metadata": {},
   "outputs": [],
   "source": [
    "import numpy as np"
   ]
  },
  {
   "cell_type": "code",
   "execution_count": null,
   "id": "25c3cdca",
   "metadata": {},
   "outputs": [
    {
     "name": "stdout",
     "output_type": "stream",
     "text": [
      "[(1, 'sasha', 89.) (2, 'Sansa', 74.) (3, 'Sonia', 55.)] \n",
      "\n",
      "[1 2 3] \n",
      "\n",
      "['sasha' 'Sansa' 'Sonia'] \n",
      "\n",
      "[89. 74. 55.] \n",
      "\n"
     ]
    }
   ],
   "source": [
    "data = np.array([(1,\"sasha\",89.0), (2, \"Sansa\", 74.0), (3, \"Sonia\", 55.0)], dtype = [('id', 'i4'), ('name', 'U10'), ('score', 'f4')])\n",
    "\n",
    "rec = data.view(np.recarray)\n",
    "print(data,\"\\n\") #accessing whole data\n",
    "print(rec.id,\"\\n\") #accessing id only\n",
    "print(rec.name,\"\\n\") #accessing name only\n",
    "print(rec.score,\"\\n\") #accessing score only"
   ]
  },
  {
   "cell_type": "markdown",
   "id": "b229c07d",
   "metadata": {},
   "source": [
    "Student Record System"
   ]
  },
  {
   "cell_type": "code",
   "execution_count": null,
   "id": "31c9f844",
   "metadata": {},
   "outputs": [
    {
     "name": "stdout",
     "output_type": "stream",
     "text": [
      "All student records:\n",
      " [(101, 'Sita', 88.5) (102, 'Gita', 91. ) (103, 'Hari', 76.3)] \n",
      "\n",
      "Names: ['Sita' 'Gita' 'Hari'] \n",
      "\n",
      "Scores: [88.5 91.  76.3] \n",
      "\n",
      "High scorers: ['Sita' 'Gita'] \n",
      "\n",
      "Sorted students (high to low):\n",
      " [(102, 'Gita', 91. ) (101, 'Sita', 88.5) (103, 'Hari', 76.3)] \n",
      "\n",
      "Access via recarray - Names: ['Sita' 'Gita' 'Hari']\n",
      "Access via recarray - Scores: [88.5 91.  76.3] \n",
      "\n",
      "After updating Hari's score:\n",
      " [(101, 'Sita', 88.5) (102, 'Gita', 91. ) (103, 'Hari', 76.3)] \n",
      "\n",
      "Student IDs: [101 102 103] \n",
      "\n",
      "Students scoring less than 85: ['Hari'] \n",
      "\n",
      "Topper is: Gita \n",
      "\n",
      "Average score: 85.26667 \n",
      "\n",
      "Sita scored 88.5\n",
      "Gita scored 91.0\n",
      "Hari scored 76.30000305175781\n"
     ]
    }
   ],
   "source": [
    "import numpy as np\n",
    "\n",
    "def find_topper(student_data):\n",
    "    return student_data[np.argmax(student_data['score'])]\n",
    "\n",
    "#structured array\n",
    "students = np.array([\n",
    "    (101, 'Sita', 88.5),\n",
    "    (102, 'Gita', 91.0),\n",
    "    (103, 'Hari', 76.3)\n",
    "], dtype=[('id', 'i4'), ('name', 'U15'), ('score', 'f4')])\n",
    "\n",
    "print(\"All student records:\\n\", students, \"\\n\")\n",
    "\n",
    "# Access individual fields\n",
    "print(\"Names:\", students['name'], \"\\n\")\n",
    "print(\"Scores:\", students['score'], \"\\n\")\n",
    "\n",
    "# Students scoring above 80\n",
    "high_scorers = students[students['score'] > 80]\n",
    "print(\"High scorers:\", high_scorers['name'], \"\\n\")\n",
    "\n",
    "# Sort students from highest to lowest score\n",
    "sorted_students = np.sort(students, order='score')[::-1]\n",
    "print(\"Sorted students (high to low):\\n\", sorted_students, \"\\n\")\n",
    "\n",
    "# View as recarray\n",
    "rec = students.view(np.recarray)\n",
    "print(\"Access via recarray - Names:\", rec.name)\n",
    "print(\"Access via recarray - Scores:\", rec.score, \"\\n\")\n",
    "\n",
    "# Access list of IDs\n",
    "print(\"Student IDs:\", students['id'], \"\\n\")\n",
    "\n",
    "# Count students scoring < 85\n",
    "lessthan85 = students[students['score'] < 85]\n",
    "print(\"Students scoring less than 85:\", lessthan85['name'], \"\\n\")\n",
    "\n",
    "# Find topper\n",
    "top_scorer = find_topper(students)\n",
    "print(\"Topper is:\", top_scorer['name'], \"\\n\")\n",
    "\n",
    "# Average score\n",
    "avg_score = np.mean(students['score'])\n",
    "print(\"Average score:\", avg_score, \"\\n\")\n",
    "\n",
    "# Formatted result display\n",
    "for s in students:\n",
    "    print(f\"{s['name']} scored {s['score']}\")\n"
   ]
  },
  {
   "cell_type": "code",
   "execution_count": null,
   "id": "ececd1a0",
   "metadata": {},
   "outputs": [],
   "source": [
    "\n",
    "data = np.genfromtxt('data.csv', delimiter=',', names=True, dtype=None, encoding='utf-8')"
   ]
  },
  {
   "cell_type": "code",
   "execution_count": null,
   "id": "3f6ec44a",
   "metadata": {},
   "outputs": [
    {
     "name": "stdout",
     "output_type": "stream",
     "text": [
      "[(4., 'No', 4., 6., 'No', 13., 5., 'Extrovert')\n",
      " (9., 'Yes', 0., 0., 'Yes',  0., 3., 'Introvert')\n",
      " (9., 'Yes', 1., 2., 'Yes',  5., 2., 'Introvert')\n",
      " (0., 'No', 6., 7., 'No', 14., 8., 'Extrovert')\n",
      " (3., 'No', 9., 4., 'No',  8., 5., 'Extrovert')] \n",
      "\n",
      "('Time_spent_Alone', 'Stage_fear', 'Social_event_attendance', 'Going_outside', 'Drained_after_socializing', 'Friends_circle_size', 'Post_frequency', 'Personality') \n",
      "\n",
      "['No' 'Yes' 'Yes' ... 'Yes' 'Yes' 'No'] \n",
      "\n",
      "Hours top 10 people spent going outside [ 6.  0.  2.  7.  4.  5. nan  4.  3.  6.] \n",
      "\n",
      "Extroverts\n",
      " [(4., 'No', 4.,  6., 'No', 13., 5., 'Extrovert')\n",
      " (0., 'No', 6.,  7., 'No', 14., 8., 'Extrovert')\n",
      " (3., 'No', 9.,  4., 'No',  8., 5., 'Extrovert')\n",
      " (1., 'No', 7.,  5., 'No',  6., 6., 'Extrovert')\n",
      " (4., 'No', 9., nan, 'No',  7., 7., 'Extrovert')] \n",
      "\n",
      "Unique Personalities:['Extrovert' 'Introvert']\n",
      "\n",
      "Total rows in this dataset are 2900\n",
      "\n",
      "Time_spent_Alone : 0.0\n",
      "Stage_fear : No\n",
      "Social_event_attendance : 6.0\n",
      "Going_outside : 7.0\n",
      "Drained_after_socializing : No\n",
      "Friends_circle_size : 14.0\n",
      "Post_frequency : 8.0\n",
      "Personality : Extrovert\n"
     ]
    }
   ],
   "source": [
    "#print 5 rows\n",
    "print(data[:5],\"\\n\")\n",
    "\n",
    "# field names \n",
    "print(data.dtype.names,\"\\n\")\n",
    "\n",
    "# individual field access\n",
    "print(data['Stage_fear'],\"\\n\")\n",
    "\n",
    "# access specific field\n",
    "print(\"Hours top 10 people spent going outside\",data['Going_outside'][:10],\"\\n\")\n",
    "\n",
    "# accessing top 5 extroverts\n",
    "personality = data[data['Personality']=='Extrovert']\n",
    "print(\"Extroverts\\n\",personality[:5],\"\\n\")\n",
    "\n",
    "# find unique values in one column\n",
    "unique_values = np.unique(data['Personality'])\n",
    "print(f\"Unique Personalities:{unique_values}\\n\")\n",
    "\n",
    "#counting number of rows\n",
    "count_rows = len(data)\n",
    "print(f\"Total rows in this dataset are {count_rows}\\n\")\n",
    "\n",
    "# print one record completely\n",
    "row = (data[3])\n",
    "\n",
    "for field in data.dtype.names:\n",
    "    print(f\"{field} : {row[field]}\")\n",
    "\n"
   ]
  },
  {
   "cell_type": "code",
   "execution_count": 110,
   "id": "8f1aa265",
   "metadata": {},
   "outputs": [
    {
     "name": "stdout",
     "output_type": "stream",
     "text": [
      "('id', 'department', 'salary')\n",
      "[150000. 200000. 130000.  70000. 140000. 170000. 230000. 500000.  50000.\n",
      " 320000.]\n",
      "Salaries greater than 50 thousand are\n",
      " [(200, 'Head Of Departm', 500000.) (250, 'Model Training', 320000.)]\n",
      "\n",
      "Updated departments for id < 100:\n",
      " [(25, 'Junior Staff', 150000.) (50, 'Junior Staff', 200000.)\n",
      " (75, 'Junior Staff', 130000.)]\n",
      "[ 25  50  75 100 125 150 175 200 225 250]\n",
      "['Junior Staff' 'Junior Staff' 'Junior Staff' 'Web Developer'\n",
      " 'Human Resource' 'Management' 'Coordinator' 'Head Of Departm' 'Helper'\n",
      " 'Model Training']\n",
      "[150000. 200000. 130000.  70000. 140000. 170000. 230000. 500000.  50000.\n",
      " 320000.]\n"
     ]
    }
   ],
   "source": [
    "# structured array\n",
    "\n",
    "employee = np.array([\n",
    "    (25, 'Data Cleaning', 150000 ),\n",
    "    (50, 'Data Processing', 200000),\n",
    "    (75, 'AI developer', 130000),\n",
    "    (100, 'Web Developer', 70000),\n",
    "    (125, 'Human Resource', 140000),\n",
    "    (150, 'Management', 170000),\n",
    "    (175, 'Coordinator', 230000),\n",
    "    (200, 'Head Of Department', 500000),\n",
    "    (225, 'Helper', 50000),\n",
    "    (250, 'Model Training', 320000),\n",
    "    \n",
    "], dtype = [\n",
    "    ('id', 'i4'),\n",
    "    ('department', 'U15'),\n",
    "    ('salary', 'f4')\n",
    "            ]\n",
    ")\n",
    "\n",
    "print(employee.dtype.names)\n",
    "\n",
    "# salary column\n",
    "print(employee['salary'])\n",
    "\n",
    "# filtering employess with salary more than 300000\n",
    "SalaryMoreThan300K = employee[employee['salary'] > 300000]\n",
    "print(f\"Salaries greater than 50 thousand are\\n {SalaryMoreThan300K}\")\n",
    "\n",
    "# updating department of all employees where id < 100\n",
    "employee['department'][employee['id'] < 100] = 'Junior Staff'\n",
    "print(\"\\nUpdated departments for id < 100:\\n\", employee[employee['id'] < 100])\n",
    "\n",
    "rec = employee.view(np.recarray)\n",
    "print(rec.id)\n",
    "print(rec.department)\n",
    "print(rec.salary)"
   ]
  }
 ],
 "metadata": {
  "kernelspec": {
   "display_name": "Python 3",
   "language": "python",
   "name": "python3"
  },
  "language_info": {
   "codemirror_mode": {
    "name": "ipython",
    "version": 3
   },
   "file_extension": ".py",
   "mimetype": "text/x-python",
   "name": "python",
   "nbconvert_exporter": "python",
   "pygments_lexer": "ipython3",
   "version": "3.11.9"
  }
 },
 "nbformat": 4,
 "nbformat_minor": 5
}
